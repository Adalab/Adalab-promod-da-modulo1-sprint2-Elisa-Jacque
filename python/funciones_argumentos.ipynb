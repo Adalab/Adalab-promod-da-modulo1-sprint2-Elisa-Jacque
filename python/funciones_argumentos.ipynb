{
 "cells": [
  {
   "attachments": {},
   "cell_type": "markdown",
   "metadata": {},
   "source": [
    "1º crear una calculadora de puntos\n",
    "Probad la función con los siguientes casos: \n",
    "\n",
    "\"..... + ...............\" => \"....................\"\n",
    "\"..... - ...\" => \"..\"\n",
    "\"..... * ...\" => \"...............\"\n",
    "\"..... // ..\" => \"..\"\n",
    "\". // ..\" => \"\"\n",
    "\".. - ..\" => \"\""
   ]
  },
  {
   "cell_type": "code",
   "execution_count": 2,
   "metadata": {},
   "outputs": [],
   "source": [
    "def calculadora (d):\n",
    "    d1=(d.split())\n",
    "    print(d1[0],d1[1],d1[2])\n",
    "    a=len(d1[0])\n",
    "    b=len(d1[2])\n",
    "    c=\".\"\n",
    "    if d1[1]==\"+\":\n",
    "        return (a+b)*c\n",
    "    if d1[1] ==\"-\":\n",
    "        return (a-b)*c\n",
    "    if d1[1] == \"*\":\n",
    "        return (a*b)*c\n",
    "    if d1[1] == \"//\":\n",
    "        return (a//b)*c\n",
    "    "
   ]
  },
  {
   "cell_type": "code",
   "execution_count": 3,
   "metadata": {},
   "outputs": [
    {
     "name": "stdout",
     "output_type": "stream",
     "text": [
      "..... + ...............\n"
     ]
    },
    {
     "data": {
      "text/plain": [
       "'....................'"
      ]
     },
     "execution_count": 3,
     "metadata": {},
     "output_type": "execute_result"
    }
   ],
   "source": [
    "#1.1\n",
    "calculadora (\"..... + ...............\" )"
   ]
  },
  {
   "cell_type": "code",
   "execution_count": 4,
   "metadata": {},
   "outputs": [
    {
     "name": "stdout",
     "output_type": "stream",
     "text": [
      "..... - ...\n"
     ]
    },
    {
     "data": {
      "text/plain": [
       "'..'"
      ]
     },
     "execution_count": 4,
     "metadata": {},
     "output_type": "execute_result"
    }
   ],
   "source": [
    "#1.2\n",
    "calculadora (\"..... - ...\")"
   ]
  },
  {
   "cell_type": "code",
   "execution_count": 8,
   "metadata": {},
   "outputs": [
    {
     "name": "stdout",
     "output_type": "stream",
     "text": [
      "..... * ...\n"
     ]
    },
    {
     "data": {
      "text/plain": [
       "'...............'"
      ]
     },
     "execution_count": 8,
     "metadata": {},
     "output_type": "execute_result"
    }
   ],
   "source": [
    "#1.3\n",
    "calculadora(\"..... * ...\" )"
   ]
  },
  {
   "cell_type": "code",
   "execution_count": 5,
   "metadata": {},
   "outputs": [
    {
     "name": "stdout",
     "output_type": "stream",
     "text": [
      "..... // ..\n"
     ]
    },
    {
     "data": {
      "text/plain": [
       "'..'"
      ]
     },
     "execution_count": 5,
     "metadata": {},
     "output_type": "execute_result"
    }
   ],
   "source": [
    "#1.4\n",
    "calculadora(\"..... // ..\")"
   ]
  },
  {
   "cell_type": "code",
   "execution_count": 7,
   "metadata": {},
   "outputs": [
    {
     "name": "stdout",
     "output_type": "stream",
     "text": [
      ".. - ..\n"
     ]
    },
    {
     "data": {
      "text/plain": [
       "''"
      ]
     },
     "execution_count": 7,
     "metadata": {},
     "output_type": "execute_result"
    }
   ],
   "source": [
    "#1.5\n",
    "calculadora(\".. - ..\")"
   ]
  },
  {
   "attachments": {},
   "cell_type": "markdown",
   "metadata": {},
   "source": [
    "Ejercicio 2:\n",
    "\n",
    "Probad la función con los siguientes casos:\n",
    "\n",
    "7712 ==> El siguiente año que felicitarás a tu amigo será el 7801. \n",
    "Por que es el siguiente año en el que no hay ninguún dígito repetido. \n",
    "\n",
    "\n",
    "1001 => 1023 \n",
    "\n",
    "1123 => 1203\n",
    "\n",
    "2001 => 2013"
   ]
  },
  {
   "cell_type": "code",
   "execution_count": 37,
   "metadata": {},
   "outputs": [],
   "source": [
    "def proximo_año(año):\n",
    "    felicitaciones=año+1\n",
    "    while len(set(str(felicitaciones)))!=4:\n",
    "        felicitaciones+=1\n",
    "    \n",
    "    return felicitaciones\n",
    "    \n",
    "  "
   ]
  },
  {
   "cell_type": "code",
   "execution_count": 38,
   "metadata": {},
   "outputs": [
    {
     "data": {
      "text/plain": [
       "1203"
      ]
     },
     "execution_count": 38,
     "metadata": {},
     "output_type": "execute_result"
    }
   ],
   "source": [
    "proximo_año(1123)\n"
   ]
  },
  {
   "attachments": {},
   "cell_type": "markdown",
   "metadata": {},
   "source": [
    "ejericio 3º crear una función que chequee la vida de un evaporador.\n",
    "Probad con los siguientes casos: \n",
    "\n",
    "10, 10, 5 => 29\n",
    "\n",
    "10, 10, 10 = > 22"
   ]
  },
  {
   "cell_type": "code",
   "execution_count": 42,
   "metadata": {},
   "outputs": [],
   "source": [
    "contenido=10\n",
    "evap_po_dia=10\n",
    "umbral=5"
   ]
  },
  {
   "cell_type": "code",
   "execution_count": 55,
   "metadata": {},
   "outputs": [],
   "source": [
    "\n",
    "def evaporador (contenido_evaporador,umbral_parada, evaporación):\n",
    "    umbral_parada = contenido_evaporador* umbral_parada/100\n",
    "    \n",
    "    dias= 0\n",
    "    while contenido_evaporador >= umbral_parada:\n",
    "      contenido_evaporador-= contenido_evaporador*evaporación/100\n",
    "      dias+=1\n",
    "    return dias"
   ]
  },
  {
   "cell_type": "code",
   "execution_count": 56,
   "metadata": {},
   "outputs": [
    {
     "data": {
      "text/plain": [
       "29"
      ]
     },
     "execution_count": 56,
     "metadata": {},
     "output_type": "execute_result"
    }
   ],
   "source": [
    "evaporador(contenido, umbral, evap_po_dia)"
   ]
  },
  {
   "attachments": {},
   "cell_type": "markdown",
   "metadata": {},
   "source": [
    "4º definid una función que tome como argumento un entero y devuelva \"true\" o \"false\" dependiendo si es número primo o no.\n",
    "Probad la función con los siguientes números: \n",
    "\n",
    "0 => False\n",
    "2 => True\n",
    "73 => True\n",
    "-1 => False\n",
    "5099 => True"
   ]
  },
  {
   "cell_type": "code",
   "execution_count": 30,
   "metadata": {},
   "outputs": [],
   "source": [
    "def numero_primo(num):\n",
    "    if num <=0:\n",
    "        return (\"false\")\n",
    "    for i in range(2,num):\n",
    "    \n",
    "        if num % i ==0:\n",
    "            return (\"False\")\n",
    "    \n",
    "    return (\"true\")\n",
    "        \n",
    "        \n"
   ]
  },
  {
   "cell_type": "code",
   "execution_count": 41,
   "metadata": {},
   "outputs": [
    {
     "data": {
      "text/plain": [
       "'False'"
      ]
     },
     "execution_count": 41,
     "metadata": {},
     "output_type": "execute_result"
    }
   ],
   "source": [
    "numero_primo(8)\n",
    "\n"
   ]
  },
  {
   "attachments": {},
   "cell_type": "markdown",
   "metadata": {},
   "source": [
    "ejercicio 5\n",
    "crear una funcion \"me gusta\"\n"
   ]
  },
  {
   "cell_type": "code",
   "execution_count": 32,
   "metadata": {},
   "outputs": [],
   "source": [
    "def me_gusta(nombre_lista):\n",
    "    if len(nombre_lista)==0:\n",
    "        return print(\"a nadie le gusta esto\")\n",
    "    elif len(nombre_lista)==1:           \n",
    "        a=(f\"a {nombre_lista[0]} le gusta esto\")\n",
    "        return a\n",
    "    elif len(nombre_lista)==2:           \n",
    "        a=(f\"a {nombre_lista[0]} , {nombre_lista[1]} les gusta esto\")\n",
    "        return a\n",
    "    elif len(nombre_lista)==3:           \n",
    "        a=(f\"a {nombre_lista[0]},{nombre_lista[1]} , {nombre_lista [2]} les gusta esto\")\n",
    "        return a\n",
    "    elif len(nombre_lista)>3:\n",
    "        catidad=len(nombre_lista)-2          \n",
    "        a=(f\"a {nombre_lista[0]},{nombre_lista[1]} y {catidad} les gusta esto\")\n",
    "        return a\n",
    "    \n",
    "       \n",
    "           \n",
    "    \n",
    "            \n",
    "    \n",
    "    \n",
    "    \n",
    "\n",
    "            "
   ]
  },
  {
   "cell_type": "code",
   "execution_count": 35,
   "metadata": {},
   "outputs": [
    {
     "data": {
      "text/plain": [
       "'a julia,juan y 6 les gusta esto'"
      ]
     },
     "execution_count": 35,
     "metadata": {},
     "output_type": "execute_result"
    }
   ],
   "source": [
    "me_gusta([\"julia\",\"juan\", \"pedro\", \"jacque\", \"christinqa\",  \"pedro\", \"jacque\", \"christinqa\"])\n"
   ]
  }
 ],
 "metadata": {
  "kernelspec": {
   "display_name": "base",
   "language": "python",
   "name": "python3"
  },
  "language_info": {
   "codemirror_mode": {
    "name": "ipython",
    "version": 3
   },
   "file_extension": ".py",
   "mimetype": "text/x-python",
   "name": "python",
   "nbconvert_exporter": "python",
   "pygments_lexer": "ipython3",
   "version": "3.9.7"
  },
  "orig_nbformat": 4
 },
 "nbformat": 4,
 "nbformat_minor": 2
}

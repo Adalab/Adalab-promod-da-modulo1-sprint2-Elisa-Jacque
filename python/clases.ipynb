{
 "cells": [
  {
   "cell_type": "code",
   "execution_count": 54,
   "metadata": {},
   "outputs": [],
   "source": [
    "class empleados:\n",
    "    def __init__(self, nombre, apellido, edad, posicion, año_entrada, vacaciones, herramientas):\n",
    "        self.nombre=nombre\n",
    "        self.apellido=apellido\n",
    "        self.edad=edad\n",
    "        self.posicion=posicion\n",
    "        self.año_entrada=año_entrada\n",
    "        self.vacaciones=vacaciones\n",
    "        self.herramientas=herramientas\n",
    "        \n",
    "    def descripcion(self):\n",
    "        self.nombre=self.nombre\n",
    "        self.apellido=self.apellido\n",
    "        self.año_entrada=self.año_entrada\n",
    "        self.vacaciones=self.vacaciones\n",
    "        return f\"El/ella, {self.nombre}, {self.apellido} , quien lleva con nostros en la empresa desde {self.año_entrada}. Además este año le quedan {self.vacaciones} dias de vacaciones\"\n",
    "    \n",
    "    def calculo_vacaciones(self):\n",
    "        peticion_vacaciones=int(input(\"Cuántos días te quieres ir de vacaciones?\"))\n",
    "        vacaciones_restantes=self.vacaciones-peticion_vacaciones\n",
    "        if vacaciones_restantes==0:\n",
    "            return \"Se acabaron las vacaciones\"\n",
    "        if peticion_vacaciones>self.vacaciones:\n",
    "            return \"No se puede ir tantos dias de vacaciones\"\n",
    "        else:\n",
    "            return f\"las vacaciones que te quedan son: {vacaciones_restantes} \"\n",
    "    \n",
    "    def cambiando_posicion(self):\n",
    "        if self.herramientas==\"python\":\n",
    "            return \"Bien hecho\"\n",
    "        else:\n",
    "            return \"Te recomendamos usar python\"\n",
    "            \n"
   ]
  },
  {
   "cell_type": "code",
   "execution_count": 59,
   "metadata": {},
   "outputs": [],
   "source": [
    "tecnology=empleados(\"juan\", \"morales\",42,\"aux. admi\", 2022, 30, \"word\")"
   ]
  },
  {
   "cell_type": "markdown",
   "metadata": {},
   "source": []
  },
  {
   "cell_type": "code",
   "execution_count": 19,
   "metadata": {},
   "outputs": [
    {
     "data": {
      "text/plain": [
       "'juan'"
      ]
     },
     "execution_count": 19,
     "metadata": {},
     "output_type": "execute_result"
    }
   ],
   "source": [
    "tecnology.nombre"
   ]
  },
  {
   "cell_type": "code",
   "execution_count": 29,
   "metadata": {},
   "outputs": [
    {
     "data": {
      "text/plain": [
       "'El/ella, juan, morales , quien lleva con nostros en la empresa desde 2022. Además este año le quedan 30 dias de vacaciones'"
      ]
     },
     "execution_count": 29,
     "metadata": {},
     "output_type": "execute_result"
    }
   ],
   "source": [
    "tecnology.descripcion()"
   ]
  },
  {
   "cell_type": "code",
   "execution_count": 42,
   "metadata": {},
   "outputs": [
    {
     "data": {
      "text/plain": [
       "'las vacaciones que te quedqn son: 18 '"
      ]
     },
     "execution_count": 42,
     "metadata": {},
     "output_type": "execute_result"
    }
   ],
   "source": [
    "tecnology.calculo_vacaciones()"
   ]
  },
  {
   "cell_type": "code",
   "execution_count": 60,
   "metadata": {},
   "outputs": [
    {
     "data": {
      "text/plain": [
       "'Te recomendamos usar python'"
      ]
     },
     "execution_count": 60,
     "metadata": {},
     "output_type": "execute_result"
    }
   ],
   "source": [
    "tecnology.cambiando_posicion()"
   ]
  }
 ],
 "metadata": {
  "kernelspec": {
   "display_name": "Python 3",
   "language": "python",
   "name": "python3"
  },
  "language_info": {
   "codemirror_mode": {
    "name": "ipython",
    "version": 3
   },
   "file_extension": ".py",
   "mimetype": "text/x-python",
   "name": "python",
   "nbconvert_exporter": "python",
   "pygments_lexer": "ipython3",
   "version": "3.9.7"
  },
  "orig_nbformat": 4
 },
 "nbformat": 4,
 "nbformat_minor": 2
}

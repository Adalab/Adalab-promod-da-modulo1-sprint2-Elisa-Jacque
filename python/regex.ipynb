{
 "cells": [
  {
   "cell_type": "code",
   "execution_count": 3,
   "metadata": {},
   "outputs": [],
   "source": [
    "import re"
   ]
  },
  {
   "cell_type": "code",
   "execution_count": 4,
   "metadata": {},
   "outputs": [],
   "source": [
    "email=open(\"_email.txt\",\"r\").read()"
   ]
  },
  {
   "cell_type": "code",
   "execution_count": 5,
   "metadata": {},
   "outputs": [
    {
     "data": {
      "text/plain": [
       "'\\nThu Oct 31 08:11:39 2002\\n    Return-Path: <bensul2004nng@spinfinder.com>\\n    X-Sieve: cmu-sieve 2.0\\n    Return-Path: <bensul2004nng@spinfinder.com>\\n    Message-Id: <200210311310.g9VDANt24674@bloodwor'"
      ]
     },
     "execution_count": 5,
     "metadata": {},
     "output_type": "execute_result"
    }
   ],
   "source": [
    "email [:200]"
   ]
  },
  {
   "attachments": {},
   "cell_type": "markdown",
   "metadata": {},
   "source": [
    "1 extraer toda la información de la persona que envió el email: (os deberian salir dos). Tendremos que hacer dos busquedas una para sacar toda la información del remitente, y otra para acceder al email unicamente."
   ]
  },
  {
   "cell_type": "code",
   "execution_count": 6,
   "metadata": {},
   "outputs": [
    {
     "name": "stdout",
     "output_type": "stream",
     "text": [
      "der.com>\n",
      "    Message-Id: <200210311310.g9VDANt24674@bloodwork.mr.itd.UM>\n",
      "    From: \"Mr. Be\n",
      "gola2002@maktoob.com>\n",
      "    Message-Id: <200210310241.g9V2fNm6028281@cs.CU>\n",
      "    From: \"MR. JAMES NGOLA.\" <james_\n"
     ]
    }
   ],
   "source": [
    "\n",
    "for i in email.split(\"n\"):\n",
    "    if \"From:\" in i:\n",
    "        print(i)"
   ]
  },
  {
   "attachments": {},
   "cell_type": "markdown",
   "metadata": {},
   "source": [
    "extraer la información del remitente:"
   ]
  },
  {
   "cell_type": "code",
   "execution_count": 7,
   "metadata": {},
   "outputs": [
    {
     "data": {
      "text/plain": [
       "['From: \"Mr. Ben Suleman\" <bensul2004nng@spinfinder.com>',\n",
       " 'From: \"MR. JAMES NGOLA.\" <james_ngola2002@maktoob.com>']"
      ]
     },
     "execution_count": 7,
     "metadata": {},
     "output_type": "execute_result"
    }
   ],
   "source": [
    "\n",
    "info_remitente = re.findall('From:.*',email)\n",
    "\n",
    "info_remitente"
   ]
  },
  {
   "attachments": {},
   "cell_type": "markdown",
   "metadata": {},
   "source": [
    "1.2 extraer el mail unicamente "
   ]
  },
  {
   "cell_type": "code",
   "execution_count": 8,
   "metadata": {},
   "outputs": [],
   "source": [
    "\n",
    "info_remitente = re.findall(\"From:.*\", email)\n",
    "mail_unico=[]\n",
    "\n",
    "for i in info_remitente:\n",
    "     \n",
    "     \n",
    "     mail_unico.append(re.findall(\"\\w\\S*@.*\", i))\n",
    "     \n",
    "    \n",
    "\n",
    "   "
   ]
  },
  {
   "cell_type": "code",
   "execution_count": 9,
   "metadata": {},
   "outputs": [
    {
     "data": {
      "text/plain": [
       "[['bensul2004nng@spinfinder.com>'], ['james_ngola2002@maktoob.com>']]"
      ]
     },
     "execution_count": 9,
     "metadata": {},
     "output_type": "execute_result"
    }
   ],
   "source": [
    "mail_unico"
   ]
  },
  {
   "attachments": {},
   "cell_type": "markdown",
   "metadata": {},
   "source": [
    "2º Extrae el nombre de la persona que envió el mail(os deberian salir 2).\n",
    "tendremos que hacer dos busquedas:\n",
    " podemos usar el resultado de la primera búsqueda del ejercicio anterior para sacar el nombre.\n",
    " Otra para extraer el nombre únicamente."
   ]
  },
  {
   "cell_type": "code",
   "execution_count": 10,
   "metadata": {},
   "outputs": [
    {
     "name": "stdout",
     "output_type": "stream",
     "text": [
      "der.com>\n",
      "    Message-Id: <200210311310.g9VDANt24674@bloodwork.mr.itd.UM>\n",
      "    From: \"Mr. Be\n",
      "gola2002@maktoob.com>\n",
      "    Message-Id: <200210310241.g9V2fNm6028281@cs.CU>\n",
      "    From: \"MR. JAMES NGOLA.\" <james_\n"
     ]
    }
   ],
   "source": [
    "for i in email.split(\"n\"):\n",
    "    if \"From:\" in i:\n",
    "        print(i)\n"
   ]
  },
  {
   "cell_type": "code",
   "execution_count": 11,
   "metadata": {},
   "outputs": [],
   "source": [
    "info_remitente = re.findall(\"From:.*\", email)\n",
    "\n",
    "nombre_remitente=[]\n",
    "\n",
    "for i in info_remitente:\n",
    "\n",
    " nombre_remitente.append(re.findall('\\\".*\\\"', i))\n",
    "\n"
   ]
  },
  {
   "cell_type": "code",
   "execution_count": 12,
   "metadata": {},
   "outputs": [
    {
     "data": {
      "text/plain": [
       "[['\"Mr. Ben Suleman\"'], ['\"MR. JAMES NGOLA.\"']]"
      ]
     },
     "execution_count": 12,
     "metadata": {},
     "output_type": "execute_result"
    }
   ],
   "source": [
    "nombre_remitente"
   ]
  },
  {
   "attachments": {},
   "cell_type": "markdown",
   "metadata": {},
   "source": [
    "3º El día en el que se mandó el email (os deberian salir 2).\n",
    "De la misma forma que antes buscamos por \"from\": primero, ahora lo tendremos que hacer con Date:"
   ]
  },
  {
   "cell_type": "code",
   "execution_count": 13,
   "metadata": {},
   "outputs": [
    {
     "name": "stdout",
     "output_type": "stream",
     "text": [
      "der.com>\n",
      "    Date: Thu, 31 Oct 2002 05:10:00\n",
      "    To: R@M\n",
      "    Subject: URGENT ASSISTANCE /RELATIONSHIP (P)\n",
      "    MIME-Versio\n",
      "gola2002@maktoob.com\n",
      "    To: webmaster@aclweb.org\n",
      "    Date: Thu, 31 Oct 2002 02:38:20 +0000\n",
      "    Subject: URGENT BUSINESS ASSISTANCE AND PARTNERSHIP\n",
      "    X-Mailer: Microsoft Outlook Express 5.00.2919.6900 DM\n",
      "    MIME-Versio\n"
     ]
    }
   ],
   "source": [
    "for i in email.split(\"n\"):\n",
    "    if \"Date:\" in i:\n",
    "        print(i)"
   ]
  },
  {
   "cell_type": "code",
   "execution_count": 14,
   "metadata": {},
   "outputs": [
    {
     "data": {
      "text/plain": [
       "['Date: Thu, 31 Oct 2002 05:10:00', 'Date: Thu, 31 Oct 2002 02:38:20 +0000']"
      ]
     },
     "execution_count": 14,
     "metadata": {},
     "output_type": "execute_result"
    }
   ],
   "source": [
    "info_fecha=re.findall(\"Date:.*\",email)\n",
    "info_fecha"
   ]
  },
  {
   "attachments": {},
   "cell_type": "markdown",
   "metadata": {},
   "source": [
    "4º El asunto del email (os deberían salir 2).\n",
    "Busca primero \"Subject:.* y después busca el patrón para extraer el asunto."
   ]
  },
  {
   "cell_type": "code",
   "execution_count": 15,
   "metadata": {},
   "outputs": [
    {
     "data": {
      "text/plain": [
       "['Subject: URGENT ASSISTANCE /RELATIONSHIP (P)',\n",
       " 'Subject: URGENT BUSINESS ASSISTANCE AND PARTNERSHIP']"
      ]
     },
     "execution_count": 15,
     "metadata": {},
     "output_type": "execute_result"
    }
   ],
   "source": [
    "info_asunto=re.findall(\"Subject:.*\",email)\n",
    "info_asunto"
   ]
  },
  {
   "attachments": {},
   "cell_type": "markdown",
   "metadata": {},
   "source": [
    "5º Guarda todos los resultados en un diccionario.\n"
   ]
  },
  {
   "cell_type": "code",
   "execution_count": 18,
   "metadata": {},
   "outputs": [
    {
     "data": {
      "text/plain": [
       "{'remitente1': (['bensul2004nng@spinfinder.com>'],\n",
       "  ['\"Mr. Ben Suleman\"'],\n",
       "  'Date: Thu, 31 Oct 2002 05:10:00',\n",
       "  'Subject: URGENT ASSISTANCE /RELATIONSHIP (P)'),\n",
       " 'remitente_2': (['james_ngola2002@maktoob.com>'],\n",
       "  ['\"MR. JAMES NGOLA.\"'],\n",
       "  'Date: Thu, 31 Oct 2002 02:38:20 +0000',\n",
       "  'Subject: URGENT BUSINESS ASSISTANCE AND PARTNERSHIP')}"
      ]
     },
     "execution_count": 18,
     "metadata": {},
     "output_type": "execute_result"
    }
   ],
   "source": [
    "datos_mail=list(zip(mail_unico, nombre_remitente, info_fecha, info_asunto))\n",
    "datos_2=dict(remitente1=datos_mail[0],remitente_2=datos_mail[1])\n",
    "datos_2\n"
   ]
  }
 ],
 "metadata": {
  "kernelspec": {
   "display_name": "base",
   "language": "python",
   "name": "python3"
  },
  "language_info": {
   "codemirror_mode": {
    "name": "ipython",
    "version": 3
   },
   "file_extension": ".py",
   "mimetype": "text/x-python",
   "name": "python",
   "nbconvert_exporter": "python",
   "pygments_lexer": "ipython3",
   "version": "3.9.7"
  },
  "orig_nbformat": 4
 },
 "nbformat": 4,
 "nbformat_minor": 2
}
